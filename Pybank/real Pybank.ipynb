{
 "cells": [
  {
   "cell_type": "code",
   "execution_count": 3,
   "id": "3f65247b-0e6a-47bd-acd5-72cd45e91939",
   "metadata": {},
   "outputs": [
    {
     "name": "stdout",
     "output_type": "stream",
     "text": [
      "Financial analysis\n",
      "---------------------------------\n",
      "Total months: 86\n",
      "Total: 38382578\n",
      "Average_change: -2315.1176470588234\n",
      "greatest increase in profits: Feb-2012 $ 1926159.0\n",
      "greatest decrease in profits: Sep-2013 $ -2196167.0\n"
     ]
    }
   ],
   "source": [
    "import pandas as pd\n",
    "from pathlib import Path\n",
    "\n",
    "csv_path = Path(\"budget_data.csv\")\n",
    "data_frame = pd.read_csv(csv_path)\n",
    "%matplotlib inline\n",
    "\n",
    "print('Financial analysis')\n",
    "\n",
    "\n",
    "print(\"---------------------------------\")\n",
    "months_total = data_frame['Date'].count()\n",
    "print(\"Total months:\",months_total)\n",
    "net_total = data_frame['Profit/Losses'].sum()\n",
    "print(\"Total:\", net_total)\n",
    "\n",
    "data_frame['diff'] = data_frame['Profit/Losses'].diff()\n",
    "avg_change = data_frame['diff'].mean()\n",
    "print(\"Average_change:\", avg_change)\n",
    "max_prof_dif = data_frame['diff'].idxmax()\n",
    "max_prof_day = data_frame.loc[max_prof_dif,'Date']\n",
    "biggest_dif = data_frame.loc[max_prof_dif,'diff']\n",
    "print(\"greatest increase in profits:\", max_prof_day,\"$\", biggest_dif)\n",
    "min_prof_dif = data_frame['diff'].idxmin()\n",
    "min_prof_day = data_frame.loc[min_prof_dif,'Date']\n",
    "biggest_min = data_frame.loc[min_prof_dif,'diff']\n",
    "print(\"greatest decrease in profits:\", min_prof_day,\"$\", biggest_min)\n"
   ]
  },
  {
   "cell_type": "code",
   "execution_count": null,
   "id": "8cc17ff6-9ba4-4491-8029-45896e93bd01",
   "metadata": {},
   "outputs": [],
   "source": []
  },
  {
   "cell_type": "code",
   "execution_count": null,
   "id": "682ae23c-88ad-4a35-8815-7572e1bee1d6",
   "metadata": {},
   "outputs": [],
   "source": []
  }
 ],
 "metadata": {
  "kernelspec": {
   "display_name": "Python 3 (ipykernel)",
   "language": "python",
   "name": "python3"
  },
  "language_info": {
   "codemirror_mode": {
    "name": "ipython",
    "version": 3
   },
   "file_extension": ".py",
   "mimetype": "text/x-python",
   "name": "python",
   "nbconvert_exporter": "python",
   "pygments_lexer": "ipython3",
   "version": "3.10.9"
  }
 },
 "nbformat": 4,
 "nbformat_minor": 5
}
