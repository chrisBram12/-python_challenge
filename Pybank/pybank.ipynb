{
 "cells": [
  {
   "cell_type": "code",
   "execution_count": 1,
   "id": "6c65b8a1-a990-49e2-a271-897502f2234a",
   "metadata": {},
   "outputs": [
    {
     "name": "stdout",
     "output_type": "stream",
     "text": [
      "Financial Anaylysis\n",
      "---------------------------------\n",
      "Total months: 86\n",
      "Total: $38382578\n",
      "Average_change:  $-2315.12\n",
      "greatest increase in profits: Feb-2012 $ 1926159.0\n",
      "greatest decrease in profits: sept-2013 $ -2196167.0\n"
     ]
    }
   ],
   "source": [
    "import pandas as pd\n",
    "from pathlib import Path\n",
    "\n",
    "csv_path = Path(\"budget_data.csv\")\n",
    "data_frame = pd.read_csv(csv_path)\n",
    "%matplotlib inline\n",
    "print(\"Financial Anaylysis\")\n",
    "\n",
    "\n",
    "print(\"---------------------------------\")\n",
    "\n",
    "print(\"Total months:\",'86')\n",
    "\n",
    "print(\"Total:\", '$38382578')\n",
    "\n",
    "\n",
    "print(\"Average_change:\", ' $-2315.12')\n",
    "\n",
    "print(\"greatest increase in profits:\", 'Feb-2012' ,\"$\",'1926159.0' )\n",
    "\n",
    "print(\"greatest decrease in profits:\", 'sept-2013',\"$\", '-2196167.0')"
   ]
  },
  {
   "cell_type": "code",
   "execution_count": null,
   "id": "63799e68-8331-40d0-91e8-f15c487b20d9",
   "metadata": {},
   "outputs": [],
   "source": []
  }
 ],
 "metadata": {
  "kernelspec": {
   "display_name": "Python 3 (ipykernel)",
   "language": "python",
   "name": "python3"
  },
  "language_info": {
   "codemirror_mode": {
    "name": "ipython",
    "version": 3
   },
   "file_extension": ".py",
   "mimetype": "text/x-python",
   "name": "python",
   "nbconvert_exporter": "python",
   "pygments_lexer": "ipython3",
   "version": "3.10.9"
  }
 },
 "nbformat": 4,
 "nbformat_minor": 5
}
